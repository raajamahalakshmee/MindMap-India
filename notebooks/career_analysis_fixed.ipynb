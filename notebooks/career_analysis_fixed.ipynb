﻿{
 "cells": [
  {
   "cell_type": "markdown",
   "metadata": {},
   "source": [
    "# Career Clustering Analysis\n",
    "This notebook performs clustering analysis on career data to identify similar career paths."
   ]
  },
  {
   "cell_type": "code",
   "execution_count": null,
   "metadata": {},
   "outputs": [],
   "source": [
    "# Import required libraries\n",
    "import os\n",
    "import pandas as pd\n",
    "import numpy as np\n",
    "import matplotlib.pyplot as plt\n",
    "import seaborn as sns\n",
    "from sklearn.feature_extraction.text import TfidfVectorizer\n",
    "from sklearn.cluster import KMeans\n",
    "import umap.umap_ as umap\n",
    "from wordcloud import WordCloud\n",
    "import plotly.express as px\n",
    "\n",
    "# Set plot style\n",
    "# plt.style.use('seaborn')  # Commented out as it's not available\n",
    "%matplotlib inline"
   ]
  },
  {
   "cell_type": "code",
   "execution_count": null,
   "metadata": {},
   "outputs": [],
   "source": [
    "# Load and prepare data\n",
    "data_path = os.path.join('..', 'data', 'careers.csv')\n",
    "df = pd.read_csv(data_path)\n",
    "df['combined_features'] = df['Career'] + ' ' + df['Skills'] + ' ' + df['Description']\n",
    "\n",
    "print(f\"Loaded {len(df)} careers\")\n",
    "df.head()"
   ]
  },
  {
   "cell_type": "code",
   "execution_count": null,
   "metadata": {},
   "outputs": [],
   "source": [
    "# Text Vectorization\n",
    "vectorizer = TfidfVectorizer(stop_words='english', max_features=1000)\n",
    "X = vectorizer.fit_transform(df['combined_features'])\n",
    "print(f\"Vectorized data shape: {X.shape}\")"
   ]
  },
  {
   "cell_type": "code",
   "execution_count": null,
   "metadata": {},
   "outputs": [],
   "source": [
    "# Dimensionality Reduction with UMAP\n",
    "reducer = umap.UMAP(random_state=42)\n",
    "X_umap = reducer.fit_transform(X)\n",
    "df['x'] = X_umap[:, 0]\n",
    "df['y'] = X_umap[:, 1]"
   ]
  },
  {
   "cell_type": "code",
   "execution_count": null,
   "metadata": {},
   "outputs": [],
   "source": [
    "# Find optimal number of clusters\n",
    "inertias = []\n",
    "K = range(2, min(11, len(df)))\n",
    "\n",
    "for k in K:\n",
    "    kmeans = KMeans(n_clusters=k, random_state=42, n_init=10)\n",
    "    kmeans.fit(X_umap)\n",
    "    inertias.append(kmeans.inertia_)\n",
    "\n",
    "# Plot elbow curve\n",
    "plt.figure(figsize=(10, 6))\n",
    "plt.plot(K, inertias, 'bo-')\n",
    "plt.xlabel('Number of Clusters (k)')\n",
    "plt.ylabel('Inertia')\n",
    "plt.title('Elbow Method For Optimal k')\n",
    "plt.xticks(K)\n",
    "plt.grid(True)\n",
    "plt.show()"
   ]
  },
  {
   "cell_type": "code",
   "execution_count": null,
   "metadata": {},
   "outputs": [],
   "source": [
    "# Apply K-means clustering\n",
    "n_clusters = 5  # Adjust based on elbow plot\n",
    "kmeans = KMeans(n_clusters=n_clusters, random_state=42, n_init=10)\n",
    "df['cluster'] = kmeans.fit_predict(X_umap)\n",
    "\n",
    "# Display cluster distribution\n",
    "cluster_counts = df['cluster'].value_counts().sort_index()\n",
    "print(\"Cluster distribution:\")\n",
    "print(cluster_counts)"
   ]
  },
  {
   "cell_type": "code",
   "execution_count": null,
   "metadata": {},
   "outputs": [],
   "source": [
    "# Create interactive visualization\n",
    "fig = px.scatter(\n",
    "    df, \n",
    "    x='x', y='y',\n",
    "    color='cluster',\n",
    "    hover_name='Career',\n",
    "    hover_data=['Domain', 'Skills'],\n",
    "    title='Career Clusters Visualization',\n",
    "    width=1000,\n",
    "    height=600\n",
    ")\n",
    "\n",
    "# Save the interactive plot\n",
    "output_dir = os.path.join('..', 'output')\n",
    "os.makedirs(output_dir, exist_ok=True)\n",
    "fig.write_html(os.path.join(output_dir, 'career_clusters.html'))\n",
    "\n",
    "# Show the plot in the notebook\n",
    "fig.show()"
   ]
  },
  {
   "cell_type": "code",
   "execution_count": null,
   "metadata": {},
   "outputs": [],
   "source": [
    "# Generate word clouds for each cluster\n",
    "wordclouds_dir = os.path.join('..', 'output', 'wordclouds')\n",
    "os.makedirs(wordclouds_dir, exist_ok=True)\n",
    "\n",
    "for cluster in sorted(df['cluster'].unique()):\n",
    "    plt.figure(figsize=(10, 6))\n",
    "    text = ' '.join(df[df['cluster'] == cluster]['combined_features'])\n",
    "    wordcloud = WordCloud(width=800, height=400, background_color='white').generate(text)\n",
    "    plt.imshow(wordcloud, interpolation='bilinear')\n",
    "    plt.axis('off')\n",
    "    plt.title(f'Cluster {cluster} - Common Terms')\n",
    "    plt.savefig(os.path.join(wordclouds_dir, f'cluster_{cluster}_wordcloud.png'), \n",
    "                bbox_inches='tight', dpi=300)\n",
    "    plt.close()\n",
    "    print(f\"Generated word cloud for cluster {cluster}\")\n",
    "\n",
    "print(\"\\nAll word clouds saved to:output/wordclouds/\")"
   ]
  },
  {
   "cell_type": "code",
   "execution_count": null,
   "metadata": {},
   "outputs": [],
   "source": [
    "# Save the clustered data\n",
    "output_csv = os.path.join('..', 'output', 'clustered_careers.csv')\n",
    "df.to_csv(output_csv, index=False)\n",
    "print(f\"\\nClustered data saved to: {output_csv}\")\n",
    "\n",
    "print(\"\\nAnalysis complete! Open the HTML file in the output folder to view the interactive visualization.\")"
   ]
  }
 ],
 "metadata": {
  "kernelspec": {
   "display_name": "Python 3 (ipykernel)",
   "language": "python",
   "name": "python3"
  },
  "language_info": {
   "codemirror_mode": {
    "name": "ipython",
    "version": 3
   },
   "file_extension": ".py",
   "mimetype": "text/x-python",
   "name": "python",
   "nbconvert_exporter": "python",
   "pygments_lexer": "ipython3",
   "version": "3.12.3"
  }
 },
 "nbformat": 4,
 "nbformat_minor": 4
}
